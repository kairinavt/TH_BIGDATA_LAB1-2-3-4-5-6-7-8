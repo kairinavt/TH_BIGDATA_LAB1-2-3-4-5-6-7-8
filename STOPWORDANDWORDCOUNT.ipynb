import nltk
from nltk.corpus import stopwords
from nltk.tokenize import word_tokenize

text = "decision trees are a very effective method of supervised learning.it aims is the partition of a dataset into groups as homogeneous as possible in terms of the variable to be predicted it takes as input a set of classified data, and outputs a tree that resembles to an orientation diagram where each end node leaf is a decision a class and each non final node internal represents a test. each leaf represents the decision of belonging to a class of data verifying all tests path from the root to the leaf."

nltk.download('stopwords')

tokens = word_tokenize(text)

tokens = [word.lower() for word in tokens]
#layds tu trong tieng anh
stop_words = set(stopwords.words('english'))

stopwords_count = {}
for word in tokens:
    if word in stop_words:
        if word in stopwords_count:
            stopwords_count[word] += 1
        else:
            stopwords_count[word] = 1
            
for word, count in stopwords_count.items():
    print(f"{word}: {count}")
def count_word_frequency(file_path):
    word_frequency = {}
    with open(file_path, 'r') as file:
        content = file.read()
        words = content.split()
        for word in words:
            if word in word_frequency:
                word_frequency[word] += 1
            else:
                word_frequency[word] = 1
    return word_frequency
//phan nay la cua wordcount
file_path = 'wordcount.txt'
word_frequency = count_word_frequency(file_path)
for word, frequency in word_frequency.items():
    print(f"Từ '{word}' xuất hiện {frequency} lần")
Bạn đã gửi
